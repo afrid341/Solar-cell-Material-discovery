{
 "cells": [
  {
   "cell_type": "code",
   "execution_count": 669,
   "metadata": {},
   "outputs": [],
   "source": [
    "import pymatgen\n",
    "from pymatgen import MPRester\n",
    "from pymatgen.transformations.standard_transformations import AutoOxiStateDecorationTransformation\n",
    "from pymatgen.transformations.standard_transformations import OxidationStateDecorationTransformation\n",
    "from pymatgen.transformations.advanced_transformations import EnumerateStructureTransformation, MultipleSubstitutionTransformation\n",
    "import random\n",
    "import os\n",
    "import numpy as np\n",
    "import pandas as pd\n",
    "import matplotlib.pyplot as plt\n",
    "import itertools\n",
    "from pymatgen.analysis.structure_prediction.dopant_predictor import get_dopants_from_substitution_probabilities\n",
    "from pymatgen import Specie as sp\n",
    "import copy\n",
    "from ase.io import read, write"
   ]
  },
  {
   "cell_type": "code",
   "execution_count": 4,
   "metadata": {},
   "outputs": [],
   "source": [
    "B_elements = [\"Zr\", \"Al\", \"Hf\", \"Nb\", \"Sb\", \"Sc\", \"Si\", \"Ta\", \"Ti\", \"V\"]\n",
    "\n",
    "data_dict_primitive_structures_ZrO3 = mpr.query(criteria = {\"elements\" : { \"$all\" : [\"O\", \"Zr\"], \"$in\" : ['Ag', 'Ba', 'Ca', 'Cs', 'K', 'La', 'Li', 'Mg', 'Na', 'Pb', 'Rb', 'Sr', 'Tl', 'Y' ] }, \"nelements\" : 3, \"spacegroup.symbol\" : {\"$eq\" :      \"Pm-3m\"}}, properties = [\"material_id\", \"pretty_formula\", \"spacegroup.symbol\"] )\n",
    "\n",
    "data_dict_primitive_structures_AlO3 = mpr.query(criteria = {\"elements\" : { \"$all\" : [\"O\", \"Al\"], \"$in\" : ['Ag', 'Ba', 'Ca', 'Cs', 'K', 'La', 'Li', 'Mg', 'Na', 'Pb', 'Rb', 'Sr', 'Tl', 'Y' ] }, \"nelements\" : 3, \"spacegroup.symbol\" : {\"$eq\" :      \"Pm-3m\"}}, properties = [\"material_id\", \"pretty_formula\", \"spacegroup.symbol\"] )\n",
    "\n",
    "data_dict_primitive_structures_HfO3 = mpr.query(criteria = {\"elements\" : { \"$all\" : [\"O\", \"Hf\"], \"$in\" : ['Ag', 'Ba', 'Ca', 'Cs', 'K', 'La', 'Li', 'Mg', 'Na', 'Pb', 'Rb', 'Sr', 'Tl', 'Y' ] }, \"nelements\" : 3, \"spacegroup.symbol\" : {\"$eq\" :      \"Pm-3m\"}}, properties = [\"material_id\", \"pretty_formula\", \"spacegroup.symbol\"] )\n",
    "\n",
    "data_dict_primitive_structures_NbO3 = mpr.query(criteria = {\"elements\" : { \"$all\" : [\"O\", \"Nb\"], \"$in\" : ['Ag', 'Ba', 'Ca', 'Cs', 'K', 'La', 'Li', 'Mg', 'Na', 'Pb', 'Rb', 'Sr', 'Tl', 'Y' ] }, \"nelements\" : 3, \"spacegroup.symbol\" : {\"$eq\" :      \"Pm-3m\"}}, properties = [\"material_id\", \"pretty_formula\", \"spacegroup.symbol\"] )\n",
    "\n",
    "data_dict_primitive_structures_SbO3 = mpr.query(criteria = {\"elements\" : { \"$all\" : [\"O\", \"Sb\"], \"$in\" : ['Ag', 'Ba', 'Ca', 'Cs', 'K', 'La', 'Li', 'Mg', 'Na', 'Pb', 'Rb', 'Sr', 'Tl', 'Y' ] }, \"nelements\" : 3, \"spacegroup.symbol\" : {\"$eq\" :      \"Pm-3m\"}}, properties = [\"material_id\", \"pretty_formula\", \"spacegroup.symbol\"] )\n",
    "\n",
    "data_dict_primitive_structures_ScO3 = mpr.query(criteria = {\"elements\" : { \"$all\" : [\"O\", \"Sc\"], \"$in\" : ['Ag', 'Ba', 'Ca', 'Cs', 'K', 'La', 'Li', 'Mg', 'Na', 'Pb', 'Rb', 'Sr', 'Tl', 'Y' ] }, \"nelements\" : 3, \"spacegroup.symbol\" : {\"$eq\" :      \"Pm-3m\"}}, properties = [\"material_id\", \"pretty_formula\", \"spacegroup.symbol\"] )\n",
    "\n",
    "data_dict_primitive_structures_SiO3 = mpr.query(criteria = {\"elements\" : { \"$all\" : [\"O\", \"Si\"], \"$in\" : ['Ag', 'Ba', 'Ca', 'Cs', 'K', 'La', 'Li', 'Mg', 'Na', 'Pb', 'Rb', 'Sr', 'Tl', 'Y' ] }, \"nelements\" : 3, \"spacegroup.symbol\" : {\"$eq\" :      \"Pm-3m\"}}, properties = [\"material_id\", \"pretty_formula\", \"spacegroup.symbol\"] )\n",
    "\n",
    "data_dict_primitive_structures_TiO3 = mpr.query(criteria = {\"elements\" : { \"$all\" : [\"O\", \"Ti\"], \"$in\" : ['Ag', 'Ba', 'Ca', 'Cs', 'K', 'La', 'Li', 'Mg', 'Na', 'Pb', 'Rb', 'Sr', 'Tl', 'Y' ] }, \"nelements\" : 3, \"spacegroup.symbol\" : {\"$eq\" :      \"Pm-3m\"}}, properties = [\"material_id\", \"pretty_formula\", \"spacegroup.symbol\"] )\n",
    "\n",
    "data_dict_primitive_structures_TaO3 = mpr.query(criteria = {\"elements\" : { \"$all\" : [\"O\", \"Ta\"], \"$in\" : ['Ag', 'Ba', 'Ca', 'Cs', 'K', 'La', 'Li', 'Mg', 'Na', 'Pb', 'Rb', 'Sr', 'Tl', 'Y' ] }, \"nelements\" : 3, \"spacegroup.symbol\" : {\"$eq\" :      \"Pm-3m\"}}, properties = [\"material_id\", \"pretty_formula\", \"spacegroup.symbol\"] )\n",
    "\n",
    "data_dict_primitive_structures_VO3 = mpr.query(criteria = {\"elements\" : { \"$all\" : [\"O\", \"V\"], \"$in\" : ['Ag', 'Ba', 'Ca', 'Cs', 'K', 'La', 'Li', 'Mg', 'Na', 'Pb', 'Rb', 'Sr', 'Tl', 'Y' ] }, \"nelements\" : 3, \"spacegroup.symbol\" : {\"$eq\" :      \"Pm-3m\"}}, properties = [\"material_id\", \"pretty_formula\", \"spacegroup.symbol\"] )"
   ]
  },
  {
   "cell_type": "code",
   "execution_count": 5,
   "metadata": {},
   "outputs": [],
   "source": [
    "data_pd_primitive_structures_ZrO3 = pd.DataFrame.from_dict(data_dict_primitive_structures_ZrO3)\n",
    "\n",
    "data_pd_primitive_structures_NbO3 = pd.DataFrame.from_dict(data_dict_primitive_structures_NbO3)\n",
    "\n",
    "data_pd_primitive_structures_AlO3 = pd.DataFrame.from_dict(data_dict_primitive_structures_AlO3)\n",
    "\n",
    "data_pd_primitive_structures_HfO3 = pd.DataFrame.from_dict(data_dict_primitive_structures_HfO3)\n",
    "\n",
    "data_pd_primitive_structures_SbO3 = pd.DataFrame.from_dict(data_dict_primitive_structures_SbO3)\n",
    "\n",
    "data_pd_primitive_structures_SiO3 = pd.DataFrame.from_dict(data_dict_primitive_structures_SiO3)\n",
    "\n",
    "data_pd_primitive_structures_VO3 = pd.DataFrame.from_dict(data_dict_primitive_structures_VO3)\n",
    "\n",
    "data_pd_primitive_structures_ScO3 = pd.DataFrame.from_dict(data_dict_primitive_structures_ScO3)\n",
    "\n",
    "data_pd_primitive_structures_TiO3 = pd.DataFrame.from_dict(data_dict_primitive_structures_TiO3)\n",
    "\n",
    "data_pd_primitive_structures_TaO3 = pd.DataFrame.from_dict(data_dict_primitive_structures_TaO3)"
   ]
  },
  {
   "cell_type": "code",
   "execution_count": 1289,
   "metadata": {},
   "outputs": [
    {
     "data": {
      "text/html": [
       "<div>\n",
       "<style scoped>\n",
       "    .dataframe tbody tr th:only-of-type {\n",
       "        vertical-align: middle;\n",
       "    }\n",
       "\n",
       "    .dataframe tbody tr th {\n",
       "        vertical-align: top;\n",
       "    }\n",
       "\n",
       "    .dataframe thead th {\n",
       "        text-align: right;\n",
       "    }\n",
       "</style>\n",
       "<table border=\"1\" class=\"dataframe\">\n",
       "  <thead>\n",
       "    <tr style=\"text-align: right;\">\n",
       "      <th></th>\n",
       "      <th>material_id</th>\n",
       "      <th>pretty_formula</th>\n",
       "      <th>spacegroup.symbol</th>\n",
       "    </tr>\n",
       "  </thead>\n",
       "  <tbody>\n",
       "    <tr>\n",
       "      <th>0</th>\n",
       "      <td>mp-19845</td>\n",
       "      <td>TiPbO3</td>\n",
       "      <td>Pm-3m</td>\n",
       "    </tr>\n",
       "    <tr>\n",
       "      <th>1</th>\n",
       "      <td>mp-977123</td>\n",
       "      <td>NaTiO3</td>\n",
       "      <td>Pm-3m</td>\n",
       "    </tr>\n",
       "    <tr>\n",
       "      <th>2</th>\n",
       "      <td>mp-2998</td>\n",
       "      <td>BaTiO3</td>\n",
       "      <td>Pm-3m</td>\n",
       "    </tr>\n",
       "    <tr>\n",
       "      <th>3</th>\n",
       "      <td>mp-1016830</td>\n",
       "      <td>MgTiO3</td>\n",
       "      <td>Pm-3m</td>\n",
       "    </tr>\n",
       "    <tr>\n",
       "      <th>4</th>\n",
       "      <td>mp-504715</td>\n",
       "      <td>BaTiO3</td>\n",
       "      <td>Pm-3m</td>\n",
       "    </tr>\n",
       "    <tr>\n",
       "      <th>5</th>\n",
       "      <td>mp-8020</td>\n",
       "      <td>LaTiO3</td>\n",
       "      <td>Pm-3m</td>\n",
       "    </tr>\n",
       "    <tr>\n",
       "      <th>6</th>\n",
       "      <td>mp-5229</td>\n",
       "      <td>SrTiO3</td>\n",
       "      <td>Pm-3m</td>\n",
       "    </tr>\n",
       "    <tr>\n",
       "      <th>7</th>\n",
       "      <td>mp-5827</td>\n",
       "      <td>CaTiO3</td>\n",
       "      <td>Pm-3m</td>\n",
       "    </tr>\n",
       "    <tr>\n",
       "      <th>8</th>\n",
       "      <td>mp-1183977</td>\n",
       "      <td>CsTiO3</td>\n",
       "      <td>Pm-3m</td>\n",
       "    </tr>\n",
       "    <tr>\n",
       "      <th>9</th>\n",
       "      <td>mvc-11198</td>\n",
       "      <td>YTiO3</td>\n",
       "      <td>Pm-3m</td>\n",
       "    </tr>\n",
       "  </tbody>\n",
       "</table>\n",
       "</div>"
      ],
      "text/plain": [
       "  material_id pretty_formula spacegroup.symbol\n",
       "0    mp-19845         TiPbO3             Pm-3m\n",
       "1   mp-977123         NaTiO3             Pm-3m\n",
       "2     mp-2998         BaTiO3             Pm-3m\n",
       "3  mp-1016830         MgTiO3             Pm-3m\n",
       "4   mp-504715         BaTiO3             Pm-3m\n",
       "5     mp-8020         LaTiO3             Pm-3m\n",
       "6     mp-5229         SrTiO3             Pm-3m\n",
       "7     mp-5827         CaTiO3             Pm-3m\n",
       "8  mp-1183977         CsTiO3             Pm-3m\n",
       "9   mvc-11198          YTiO3             Pm-3m"
      ]
     },
     "execution_count": 1289,
     "metadata": {},
     "output_type": "execute_result"
    }
   ],
   "source": [
    "data_pd_primitive_structures_TiO3"
   ]
  },
  {
   "cell_type": "markdown",
   "metadata": {},
   "source": [
    "remove rows where the B type element occupies the A position"
   ]
  },
  {
   "cell_type": "code",
   "execution_count": 1290,
   "metadata": {
    "tags": []
   },
   "outputs": [
    {
     "name": "stdout",
     "output_type": "stream",
     "text": [
      "material_id spacegroup.symbol\n",
      "pretty_formula                              \n",
      "TiPbO3            mp-19845             Pm-3m\n",
      "NaTiO3           mp-977123             Pm-3m\n",
      "BaTiO3             mp-2998             Pm-3m\n",
      "MgTiO3          mp-1016830             Pm-3m\n",
      "BaTiO3           mp-504715             Pm-3m\n",
      "LaTiO3             mp-8020             Pm-3m\n",
      "SrTiO3             mp-5229             Pm-3m\n",
      "CaTiO3             mp-5827             Pm-3m\n",
      "CsTiO3          mp-1183977             Pm-3m\n",
      "YTiO3            mvc-11198             Pm-3m\n"
     ]
    }
   ],
   "source": [
    "data_pd_primitive_structures_BO3_temp = data_pd_primitive_structures_TiO3.set_index(\"pretty_formula\")\n",
    "print(data_pd_primitive_structures_BO3_temp)"
   ]
  },
  {
   "cell_type": "code",
   "execution_count": 1292,
   "metadata": {},
   "outputs": [],
   "source": [
    "data_pd_primitive_structures_BO3_temp1 = data_pd_primitive_structures_BO3_temp.drop(labels= [\"TiPbO3\"])\n",
    "data_pd_primitive_structures_BO3_new = data_pd_primitive_structures_BO3_temp1.reset_index()"
   ]
  },
  {
   "cell_type": "code",
   "execution_count": 1293,
   "metadata": {},
   "outputs": [
    {
     "data": {
      "text/html": [
       "<div>\n",
       "<style scoped>\n",
       "    .dataframe tbody tr th:only-of-type {\n",
       "        vertical-align: middle;\n",
       "    }\n",
       "\n",
       "    .dataframe tbody tr th {\n",
       "        vertical-align: top;\n",
       "    }\n",
       "\n",
       "    .dataframe thead th {\n",
       "        text-align: right;\n",
       "    }\n",
       "</style>\n",
       "<table border=\"1\" class=\"dataframe\">\n",
       "  <thead>\n",
       "    <tr style=\"text-align: right;\">\n",
       "      <th></th>\n",
       "      <th>pretty_formula</th>\n",
       "      <th>material_id</th>\n",
       "      <th>spacegroup.symbol</th>\n",
       "    </tr>\n",
       "  </thead>\n",
       "  <tbody>\n",
       "    <tr>\n",
       "      <th>0</th>\n",
       "      <td>NaTiO3</td>\n",
       "      <td>mp-977123</td>\n",
       "      <td>Pm-3m</td>\n",
       "    </tr>\n",
       "    <tr>\n",
       "      <th>1</th>\n",
       "      <td>BaTiO3</td>\n",
       "      <td>mp-2998</td>\n",
       "      <td>Pm-3m</td>\n",
       "    </tr>\n",
       "    <tr>\n",
       "      <th>2</th>\n",
       "      <td>MgTiO3</td>\n",
       "      <td>mp-1016830</td>\n",
       "      <td>Pm-3m</td>\n",
       "    </tr>\n",
       "    <tr>\n",
       "      <th>3</th>\n",
       "      <td>BaTiO3</td>\n",
       "      <td>mp-504715</td>\n",
       "      <td>Pm-3m</td>\n",
       "    </tr>\n",
       "    <tr>\n",
       "      <th>4</th>\n",
       "      <td>LaTiO3</td>\n",
       "      <td>mp-8020</td>\n",
       "      <td>Pm-3m</td>\n",
       "    </tr>\n",
       "    <tr>\n",
       "      <th>5</th>\n",
       "      <td>SrTiO3</td>\n",
       "      <td>mp-5229</td>\n",
       "      <td>Pm-3m</td>\n",
       "    </tr>\n",
       "    <tr>\n",
       "      <th>6</th>\n",
       "      <td>CaTiO3</td>\n",
       "      <td>mp-5827</td>\n",
       "      <td>Pm-3m</td>\n",
       "    </tr>\n",
       "    <tr>\n",
       "      <th>7</th>\n",
       "      <td>CsTiO3</td>\n",
       "      <td>mp-1183977</td>\n",
       "      <td>Pm-3m</td>\n",
       "    </tr>\n",
       "    <tr>\n",
       "      <th>8</th>\n",
       "      <td>YTiO3</td>\n",
       "      <td>mvc-11198</td>\n",
       "      <td>Pm-3m</td>\n",
       "    </tr>\n",
       "  </tbody>\n",
       "</table>\n",
       "</div>"
      ],
      "text/plain": [
       "  pretty_formula material_id spacegroup.symbol\n",
       "0         NaTiO3   mp-977123             Pm-3m\n",
       "1         BaTiO3     mp-2998             Pm-3m\n",
       "2         MgTiO3  mp-1016830             Pm-3m\n",
       "3         BaTiO3   mp-504715             Pm-3m\n",
       "4         LaTiO3     mp-8020             Pm-3m\n",
       "5         SrTiO3     mp-5229             Pm-3m\n",
       "6         CaTiO3     mp-5827             Pm-3m\n",
       "7         CsTiO3  mp-1183977             Pm-3m\n",
       "8          YTiO3   mvc-11198             Pm-3m"
      ]
     },
     "execution_count": 1293,
     "metadata": {},
     "output_type": "execute_result"
    }
   ],
   "source": [
    "data_pd_primitive_structures_BO3_new"
   ]
  },
  {
   "cell_type": "markdown",
   "metadata": {},
   "source": [
    "Now create the structure objects for each structure using the mp-ids"
   ]
  },
  {
   "cell_type": "code",
   "execution_count": 1295,
   "metadata": {},
   "outputs": [],
   "source": [
    "BO3_mpid = {}\n",
    "BO3_structures = {}\n",
    "for i in range(9):\n",
    "    BO3_mpid[i] = data_pd_primitive_structures_BO3_new['material_id'][i]\n",
    "    BO3_structures[i] = mpr.get_structure_by_material_id(BO3_mpid[i])"
   ]
  },
  {
   "cell_type": "markdown",
   "metadata": {},
   "source": [
    "Apply Oxidation transformation to every structure"
   ]
  },
  {
   "cell_type": "code",
   "execution_count": 1305,
   "metadata": {
    "tags": []
   },
   "outputs": [],
   "source": [
    "BO3_structures_oxi = {}\n",
    "for i in [1,2,4,5,6,8]:\n",
    "    BO3_structures_oxi[i] = AutoOxiStateDecorationTransformation().apply_transformation(mpr.get_structure_by_material_id(BO3_mpid[i]))\n",
    "\n",
    "\n"
   ]
  },
  {
   "cell_type": "markdown",
   "metadata": {},
   "source": [
    "AutoOxidation transformation does not work with few structures, for that we manually implement transformation using OxidationStateDecorator"
   ]
  },
  {
   "cell_type": "code",
   "execution_count": 1306,
   "metadata": {},
   "outputs": [
    {
     "data": {
      "text/plain": [
       "{1: Structure Summary\n",
       " Lattice\n",
       "     abc : 4.035583 4.035583 4.035583\n",
       "  angles : 90.0 90.0 90.0\n",
       "  volume : 65.72322285207949\n",
       "       A : 4.035583 0.0 0.0\n",
       "       B : 0.0 4.035583 0.0\n",
       "       C : 0.0 0.0 4.035583\n",
       " PeriodicSite: Ba2+ (0.0000, 0.0000, 0.0000) [0.0000, 0.0000, 0.0000]\n",
       " PeriodicSite: Ti4+ (2.0178, 2.0178, 2.0178) [0.5000, 0.5000, 0.5000]\n",
       " PeriodicSite: O2- (0.0000, 2.0178, 2.0178) [0.0000, 0.5000, 0.5000]\n",
       " PeriodicSite: O2- (2.0178, 0.0000, 2.0178) [0.5000, 0.0000, 0.5000]\n",
       " PeriodicSite: O2- (2.0178, 2.0178, 0.0000) [0.5000, 0.5000, 0.0000],\n",
       " 2: Structure Summary\n",
       " Lattice\n",
       "     abc : 3.842492 3.842492 3.842492\n",
       "  angles : 90.0 90.0 90.0\n",
       "  volume : 56.73341366101276\n",
       "       A : 3.842492 0.0 0.0\n",
       "       B : 0.0 3.842492 0.0\n",
       "       C : 0.0 0.0 3.842492\n",
       " PeriodicSite: Mg2+ (0.0000, 0.0000, 0.0000) [0.0000, 0.0000, 0.0000]\n",
       " PeriodicSite: Ti4+ (1.9212, 1.9212, 1.9212) [0.5000, 0.5000, 0.5000]\n",
       " PeriodicSite: O2- (1.9212, 1.9212, 0.0000) [0.5000, 0.5000, 0.0000]\n",
       " PeriodicSite: O2- (1.9212, 0.0000, 1.9212) [0.5000, 0.0000, 0.5000]\n",
       " PeriodicSite: O2- (0.0000, 1.9212, 1.9212) [0.0000, 0.5000, 0.5000],\n",
       " 4: Structure Summary\n",
       " Lattice\n",
       "     abc : 3.958938 3.958938 3.958938\n",
       "  angles : 90.0 90.0 90.0\n",
       "  volume : 62.049187819988944\n",
       "       A : 3.958938 0.0 0.0\n",
       "       B : 0.0 3.958938 0.0\n",
       "       C : 0.0 0.0 3.958938\n",
       " PeriodicSite: La3+ (0.0000, 0.0000, 0.0000) [0.0000, 0.0000, 0.0000]\n",
       " PeriodicSite: Ti3+ (1.9795, 1.9795, 1.9795) [0.5000, 0.5000, 0.5000]\n",
       " PeriodicSite: O2- (0.0000, 1.9795, 1.9795) [0.0000, 0.5000, 0.5000]\n",
       " PeriodicSite: O2- (1.9795, 0.0000, 1.9795) [0.5000, 0.0000, 0.5000]\n",
       " PeriodicSite: O2- (1.9795, 1.9795, 0.0000) [0.5000, 0.5000, 0.0000],\n",
       " 5: Structure Summary\n",
       " Lattice\n",
       "     abc : 3.94513 3.94513 3.94513\n",
       "  angles : 90.0 90.0 90.0\n",
       "  volume : 61.40220340476369\n",
       "       A : 3.94513 0.0 0.0\n",
       "       B : 0.0 3.94513 0.0\n",
       "       C : 0.0 0.0 3.94513\n",
       " PeriodicSite: Sr2+ (0.0000, 0.0000, 0.0000) [0.0000, 0.0000, 0.0000]\n",
       " PeriodicSite: Ti4+ (1.9726, 1.9726, 1.9726) [0.5000, 0.5000, 0.5000]\n",
       " PeriodicSite: O2- (1.9726, 0.0000, 1.9726) [0.5000, 0.0000, 0.5000]\n",
       " PeriodicSite: O2- (1.9726, 1.9726, 0.0000) [0.5000, 0.5000, 0.0000]\n",
       " PeriodicSite: O2- (0.0000, 1.9726, 1.9726) [0.0000, 0.5000, 0.5000],\n",
       " 6: Structure Summary\n",
       " Lattice\n",
       "     abc : 3.889471 3.889471 3.889471\n",
       "  angles : 90.0 90.0 90.0\n",
       "  volume : 58.83985762289643\n",
       "       A : 3.889471 0.0 0.0\n",
       "       B : 0.0 3.889471 0.0\n",
       "       C : 0.0 0.0 3.889471\n",
       " PeriodicSite: Ca2+ (1.9447, 1.9447, 1.9447) [0.5000, 0.5000, 0.5000]\n",
       " PeriodicSite: Ti4+ (0.0000, 0.0000, 0.0000) [0.0000, 0.0000, 0.0000]\n",
       " PeriodicSite: O2- (0.0000, 1.9447, 0.0000) [0.0000, 0.5000, 0.0000]\n",
       " PeriodicSite: O2- (0.0000, 0.0000, 1.9447) [0.0000, 0.0000, 0.5000]\n",
       " PeriodicSite: O2- (1.9447, 0.0000, 0.0000) [0.5000, 0.0000, 0.0000],\n",
       " 8: Structure Summary\n",
       " Lattice\n",
       "     abc : 3.89302 3.89302 3.89302\n",
       "  angles : 90.0 90.0 90.0\n",
       "  volume : 59.0010722886116\n",
       "       A : 3.89302 0.0 0.0\n",
       "       B : 0.0 3.89302 0.0\n",
       "       C : 0.0 0.0 3.89302\n",
       " PeriodicSite: Y3+ (0.0000, 0.0000, 0.0000) [0.0000, 0.0000, 0.0000]\n",
       " PeriodicSite: Ti3+ (1.9465, 1.9465, 1.9465) [0.5000, 0.5000, 0.5000]\n",
       " PeriodicSite: O2- (1.9465, 1.9465, 0.0000) [0.5000, 0.5000, 0.0000]\n",
       " PeriodicSite: O2- (1.9465, 0.0000, 1.9465) [0.5000, 0.0000, 0.5000]\n",
       " PeriodicSite: O2- (0.0000, 1.9465, 1.9465) [0.0000, 0.5000, 0.5000]}"
      ]
     },
     "execution_count": 1306,
     "metadata": {},
     "output_type": "execute_result"
    }
   ],
   "source": [
    "#for structures indices 3\n",
    "# 2 <- KZrO3 (Sr 2+, Zr +4, O3 -2) \n",
    "#ZrO3_structures_oxi[2] = OxidationStateDecorationTransformation({\"Sr\":+2, \"Zr\":+4, \"O\":-2}).apply_transformation(ZrO3_structures[2])\n",
    "BO3_structures_oxi"
   ]
  },
  {
   "cell_type": "markdown",
   "metadata": {},
   "source": [
    "Find dopant species based on the probabilities"
   ]
  },
  {
   "cell_type": "code",
   "execution_count": 1307,
   "metadata": {},
   "outputs": [],
   "source": [
    "BO3_structures_oxi_subs = {}\n",
    "for i in [1,2,4,5,6,8]:\n",
    "    BO3_structures_oxi_subs[i] = get_dopants_from_substitution_probabilities(BO3_structures_oxi[i])"
   ]
  },
  {
   "cell_type": "markdown",
   "metadata": {},
   "source": [
    "To subset the dataframe to find subs that take over the A position we need to use an object called Specie imported as sp, since the data type is a Specie object"
   ]
  },
  {
   "cell_type": "code",
   "execution_count": 1308,
   "metadata": {
    "tags": []
   },
   "outputs": [],
   "source": [
    "df_BO3_dopant_subs = {}\n",
    "for i in [1,2,4,5,6,8]:\n",
    "    df = pd.DataFrame.from_dict(BO3_structures_oxi_subs[i]['p_type'])\n",
    "    df_BO3_dopant_subs[i] = df[df['original_species'] == BO3_structures_oxi[i].species[0]]\n",
    "    df = []\n"
   ]
  },
  {
   "cell_type": "code",
   "execution_count": 1314,
   "metadata": {
    "tags": []
   },
   "outputs": [
    {
     "data": {
      "text/html": [
       "<div>\n",
       "<style scoped>\n",
       "    .dataframe tbody tr th:only-of-type {\n",
       "        vertical-align: middle;\n",
       "    }\n",
       "\n",
       "    .dataframe tbody tr th {\n",
       "        vertical-align: top;\n",
       "    }\n",
       "\n",
       "    .dataframe thead th {\n",
       "        text-align: right;\n",
       "    }\n",
       "</style>\n",
       "<table border=\"1\" class=\"dataframe\">\n",
       "  <thead>\n",
       "    <tr style=\"text-align: right;\">\n",
       "      <th></th>\n",
       "      <th>probability</th>\n",
       "      <th>dopant_species</th>\n",
       "      <th>original_species</th>\n",
       "    </tr>\n",
       "  </thead>\n",
       "  <tbody>\n",
       "    <tr>\n",
       "      <th>1</th>\n",
       "      <td>0.048963</td>\n",
       "      <td>Na+</td>\n",
       "      <td>Y3+</td>\n",
       "    </tr>\n",
       "    <tr>\n",
       "      <th>4</th>\n",
       "      <td>0.031569</td>\n",
       "      <td>K+</td>\n",
       "      <td>Y3+</td>\n",
       "    </tr>\n",
       "  </tbody>\n",
       "</table>\n",
       "</div>"
      ],
      "text/plain": [
       "   probability dopant_species original_species\n",
       "1     0.048963            Na+              Y3+\n",
       "4     0.031569             K+              Y3+"
      ]
     },
     "execution_count": 1314,
     "metadata": {},
     "output_type": "execute_result"
    }
   ],
   "source": [
    "df_BO3_dopant_subs[8]\n",
    "#BO3_structures_oxi_subs[0]['p_type']"
   ]
  },
  {
   "cell_type": "markdown",
   "metadata": {},
   "source": [
    "Now that we have a dictionary of probable substition elements for all the structres in our given B element library we can conduct substituions on the structures. "
   ]
  },
  {
   "cell_type": "code",
   "execution_count": 1315,
   "metadata": {},
   "outputs": [],
   "source": [
    "BO3_structures_oxi_disordered = BO3_structures_oxi.copy()\n",
    "#ZrO3_structures_oxi_disordered[0].species[0]"
   ]
  },
  {
   "cell_type": "code",
   "execution_count": 1316,
   "metadata": {},
   "outputs": [],
   "source": [
    "rd_sp = {}\n",
    "for i in [1,2,4,5,6,8]:\n",
    "    x = random.choice([0.25,0.5]) #0.75\n",
    "    rd_sp = random.sample(list(df_BO3_dopant_subs[i].dopant_species),2)\n",
    "    BO3_structures_oxi_disordered[i].replace_species({BO3_structures_oxi[i].species[0]: { rd_sp[0]: x/2, rd_sp[1]: x/2, BO3_structures_oxi[i].species[0]: 1-x } })\n"
   ]
  },
  {
   "cell_type": "markdown",
   "metadata": {},
   "source": [
    "Here the second structure has only one candidate so well do manually for and later well implement forloop if such situations"
   ]
  },
  {
   "cell_type": "code",
   "execution_count": 1179,
   "metadata": {},
   "outputs": [],
   "source": [
    "#BO3_structures_oxi_disordered[7].replace_species({BO3_structures_oxi[7].species[0]: { \"Na+\": 0.25, BO3_structures_oxi[7].species[0]: 0.75 } })"
   ]
  },
  {
   "cell_type": "code",
   "execution_count": 1317,
   "metadata": {},
   "outputs": [
    {
     "data": {
      "text/plain": [
       "{1: Structure Summary\n",
       " Lattice\n",
       "     abc : 4.035583 4.035583 4.035583\n",
       "  angles : 90.0 90.0 90.0\n",
       "  volume : 65.72322285207949\n",
       "       A : 4.035583 0.0 0.0\n",
       "       B : 0.0 4.035583 0.0\n",
       "       C : 0.0 0.0 4.035583\n",
       " PeriodicSite: Cs+:0.250, K+:0.250, Ba2+:0.500 (0.0000, 0.0000, 0.0000) [0.0000, 0.0000, 0.0000]\n",
       " PeriodicSite: Ti4+ (2.0178, 2.0178, 2.0178) [0.5000, 0.5000, 0.5000]\n",
       " PeriodicSite: O2- (0.0000, 2.0178, 2.0178) [0.0000, 0.5000, 0.5000]\n",
       " PeriodicSite: O2- (2.0178, 0.0000, 2.0178) [0.5000, 0.0000, 0.5000]\n",
       " PeriodicSite: O2- (2.0178, 2.0178, 0.0000) [0.5000, 0.5000, 0.0000],\n",
       " 2: Structure Summary\n",
       " Lattice\n",
       "     abc : 3.842492 3.842492 3.842492\n",
       "  angles : 90.0 90.0 90.0\n",
       "  volume : 56.73341366101276\n",
       "       A : 3.842492 0.0 0.0\n",
       "       B : 0.0 3.842492 0.0\n",
       "       C : 0.0 0.0 3.842492\n",
       " PeriodicSite: Na+:0.125, Mg2+:0.750, O2-:0.125 (0.0000, 0.0000, 0.0000) [0.0000, 0.0000, 0.0000]\n",
       " PeriodicSite: Ti4+ (1.9212, 1.9212, 1.9212) [0.5000, 0.5000, 0.5000]\n",
       " PeriodicSite: O2- (1.9212, 1.9212, 0.0000) [0.5000, 0.5000, 0.0000]\n",
       " PeriodicSite: O2- (1.9212, 0.0000, 1.9212) [0.5000, 0.0000, 0.5000]\n",
       " PeriodicSite: O2- (0.0000, 1.9212, 1.9212) [0.0000, 0.5000, 0.5000],\n",
       " 4: Structure Summary\n",
       " Lattice\n",
       "     abc : 3.958938 3.958938 3.958938\n",
       "  angles : 90.0 90.0 90.0\n",
       "  volume : 62.049187819988944\n",
       "       A : 3.958938 0.0 0.0\n",
       "       B : 0.0 3.958938 0.0\n",
       "       C : 0.0 0.0 3.958938\n",
       " PeriodicSite: Ba2+:0.125, Na+:0.125, La3+:0.750 (0.0000, 0.0000, 0.0000) [0.0000, 0.0000, 0.0000]\n",
       " PeriodicSite: Ti3+ (1.9795, 1.9795, 1.9795) [0.5000, 0.5000, 0.5000]\n",
       " PeriodicSite: O2- (0.0000, 1.9795, 1.9795) [0.0000, 0.5000, 0.5000]\n",
       " PeriodicSite: O2- (1.9795, 0.0000, 1.9795) [0.5000, 0.0000, 0.5000]\n",
       " PeriodicSite: O2- (1.9795, 1.9795, 0.0000) [0.5000, 0.5000, 0.0000],\n",
       " 5: Structure Summary\n",
       " Lattice\n",
       "     abc : 3.94513 3.94513 3.94513\n",
       "  angles : 90.0 90.0 90.0\n",
       "  volume : 61.40220340476369\n",
       "       A : 3.94513 0.0 0.0\n",
       "       B : 0.0 3.94513 0.0\n",
       "       C : 0.0 0.0 3.94513\n",
       " PeriodicSite: Cs+:0.250, Rb+:0.250, Sr2+:0.500 (0.0000, 0.0000, 0.0000) [0.0000, 0.0000, 0.0000]\n",
       " PeriodicSite: Ti4+ (1.9726, 1.9726, 1.9726) [0.5000, 0.5000, 0.5000]\n",
       " PeriodicSite: O2- (1.9726, 0.0000, 1.9726) [0.5000, 0.0000, 0.5000]\n",
       " PeriodicSite: O2- (1.9726, 1.9726, 0.0000) [0.5000, 0.5000, 0.0000]\n",
       " PeriodicSite: O2- (0.0000, 1.9726, 1.9726) [0.0000, 0.5000, 0.5000],\n",
       " 6: Structure Summary\n",
       " Lattice\n",
       "     abc : 3.889471 3.889471 3.889471\n",
       "  angles : 90.0 90.0 90.0\n",
       "  volume : 58.83985762289643\n",
       "       A : 3.889471 0.0 0.0\n",
       "       B : 0.0 3.889471 0.0\n",
       "       C : 0.0 0.0 3.889471\n",
       " PeriodicSite: Cs+:0.125, K+:0.125, Ca2+:0.750 (1.9447, 1.9447, 1.9447) [0.5000, 0.5000, 0.5000]\n",
       " PeriodicSite: Ti4+ (0.0000, 0.0000, 0.0000) [0.0000, 0.0000, 0.0000]\n",
       " PeriodicSite: O2- (0.0000, 1.9447, 0.0000) [0.0000, 0.5000, 0.0000]\n",
       " PeriodicSite: O2- (0.0000, 0.0000, 1.9447) [0.0000, 0.0000, 0.5000]\n",
       " PeriodicSite: O2- (1.9447, 0.0000, 0.0000) [0.5000, 0.0000, 0.0000],\n",
       " 8: Structure Summary\n",
       " Lattice\n",
       "     abc : 3.89302 3.89302 3.89302\n",
       "  angles : 90.0 90.0 90.0\n",
       "  volume : 59.0010722886116\n",
       "       A : 3.89302 0.0 0.0\n",
       "       B : 0.0 3.89302 0.0\n",
       "       C : 0.0 0.0 3.89302\n",
       " PeriodicSite: K+:0.250, Na+:0.250, Y3+:0.500 (0.0000, 0.0000, 0.0000) [0.0000, 0.0000, 0.0000]\n",
       " PeriodicSite: Ti3+ (1.9465, 1.9465, 1.9465) [0.5000, 0.5000, 0.5000]\n",
       " PeriodicSite: O2- (1.9465, 1.9465, 0.0000) [0.5000, 0.5000, 0.0000]\n",
       " PeriodicSite: O2- (1.9465, 0.0000, 1.9465) [0.5000, 0.0000, 0.5000]\n",
       " PeriodicSite: O2- (0.0000, 1.9465, 1.9465) [0.0000, 0.5000, 0.5000]}"
      ]
     },
     "execution_count": 1317,
     "metadata": {},
     "output_type": "execute_result"
    }
   ],
   "source": [
    "BO3_structures_oxi_disordered"
   ]
  },
  {
   "cell_type": "markdown",
   "metadata": {},
   "source": [
    "Get the molecular formula for each structure "
   ]
  },
  {
   "cell_type": "code",
   "execution_count": 1318,
   "metadata": {},
   "outputs": [],
   "source": [
    "BO3_structures_molecular_formula = {}\n",
    "for i in [1,2,4,5,6,8]:\n",
    "    BO3_structures_molecular_formula[i] = BO3_structures_oxi_disordered[i].formula"
   ]
  },
  {
   "cell_type": "code",
   "execution_count": 1319,
   "metadata": {},
   "outputs": [
    {
     "data": {
      "text/plain": [
       "{1: 'Cs0.25 K0.25 Ba0.5 Ti1 O3',\n",
       " 2: 'Na0.125 Mg0.75 Ti1 O3.125',\n",
       " 4: 'Ba0.125 Na0.125 La0.75 Ti1 O3',\n",
       " 5: 'Cs0.25 Rb0.25 Sr0.5 Ti1 O3',\n",
       " 6: 'Cs0.125 K0.125 Ca0.75 Ti1 O3',\n",
       " 8: 'K0.25 Na0.25 Y0.5 Ti1 O3'}"
      ]
     },
     "execution_count": 1319,
     "metadata": {},
     "output_type": "execute_result"
    }
   ],
   "source": [
    "BO3_structures_molecular_formula"
   ]
  },
  {
   "cell_type": "markdown",
   "metadata": {},
   "source": [
    "Now construct the supercell for these structures out of the primitive cells, use copy and deepcopy method to avoid changes in the parent dictionaries of dictionaries"
   ]
  },
  {
   "cell_type": "code",
   "execution_count": 1320,
   "metadata": {},
   "outputs": [],
   "source": [
    "BO3_structures_oxi_disordered_supercell = {}\n",
    "BO3_structures_oxi_disordered_copy = copy.deepcopy(BO3_structures_oxi_disordered)\n",
    "for i in [1,2,4,5,6,8]:\n",
    "    BO3_structures_oxi_disordered_supercell[i] = BO3_structures_oxi_disordered_copy[i] * 2"
   ]
  },
  {
   "cell_type": "markdown",
   "metadata": {},
   "source": [
    "For structures that already come in supercell form, just multiply them by 1 and add back to the dictionary"
   ]
  },
  {
   "cell_type": "code",
   "execution_count": 812,
   "metadata": {},
   "outputs": [],
   "source": [
    "#BO3_structures_oxi_disordered_supercell[1] = BO3_structures_oxi_disordered_copy[1] "
   ]
  },
  {
   "cell_type": "code",
   "execution_count": 1345,
   "metadata": {},
   "outputs": [
    {
     "data": {
      "text/plain": [
       "Structure Summary\n",
       "Lattice\n",
       "    abc : 7.917876 7.917876 7.917876\n",
       " angles : 90.0 90.0 90.0\n",
       " volume : 496.39350255991155\n",
       "      A : 7.917876 0.0 0.0\n",
       "      B : 0.0 7.917876 0.0\n",
       "      C : 0.0 0.0 7.917876\n",
       "PeriodicSite: Ba2+:0.125, Na+:0.125, La3+:0.750 (0.0000, 0.0000, 0.0000) [0.0000, 0.0000, 0.0000]\n",
       "PeriodicSite: Ba2+:0.125, Na+:0.125, La3+:0.750 (0.0000, 0.0000, 3.9589) [0.0000, 0.0000, 0.5000]\n",
       "PeriodicSite: Ba2+:0.125, Na+:0.125, La3+:0.750 (0.0000, 3.9589, 0.0000) [0.0000, 0.5000, 0.0000]\n",
       "PeriodicSite: Ba2+:0.125, Na+:0.125, La3+:0.750 (0.0000, 3.9589, 3.9589) [0.0000, 0.5000, 0.5000]\n",
       "PeriodicSite: Ba2+:0.125, Na+:0.125, La3+:0.750 (3.9589, 0.0000, 0.0000) [0.5000, 0.0000, 0.0000]\n",
       "PeriodicSite: Ba2+:0.125, Na+:0.125, La3+:0.750 (3.9589, 0.0000, 3.9589) [0.5000, 0.0000, 0.5000]\n",
       "PeriodicSite: Ba2+:0.125, Na+:0.125, La3+:0.750 (3.9589, 3.9589, 0.0000) [0.5000, 0.5000, 0.0000]\n",
       "PeriodicSite: Ba2+:0.125, Na+:0.125, La3+:0.750 (3.9589, 3.9589, 3.9589) [0.5000, 0.5000, 0.5000]\n",
       "PeriodicSite: Ti3+ (1.9795, 1.9795, 1.9795) [0.2500, 0.2500, 0.2500]\n",
       "PeriodicSite: Ti3+ (1.9795, 1.9795, 5.9384) [0.2500, 0.2500, 0.7500]\n",
       "PeriodicSite: Ti3+ (1.9795, 5.9384, 1.9795) [0.2500, 0.7500, 0.2500]\n",
       "PeriodicSite: Ti3+ (1.9795, 5.9384, 5.9384) [0.2500, 0.7500, 0.7500]\n",
       "PeriodicSite: Ti3+ (5.9384, 1.9795, 1.9795) [0.7500, 0.2500, 0.2500]\n",
       "PeriodicSite: Ti3+ (5.9384, 1.9795, 5.9384) [0.7500, 0.2500, 0.7500]\n",
       "PeriodicSite: Ti3+ (5.9384, 5.9384, 1.9795) [0.7500, 0.7500, 0.2500]\n",
       "PeriodicSite: Ti3+ (5.9384, 5.9384, 5.9384) [0.7500, 0.7500, 0.7500]\n",
       "PeriodicSite: O2- (0.0000, 1.9795, 1.9795) [0.0000, 0.2500, 0.2500]\n",
       "PeriodicSite: O2- (0.0000, 1.9795, 5.9384) [0.0000, 0.2500, 0.7500]\n",
       "PeriodicSite: O2- (0.0000, 5.9384, 1.9795) [0.0000, 0.7500, 0.2500]\n",
       "PeriodicSite: O2- (0.0000, 5.9384, 5.9384) [0.0000, 0.7500, 0.7500]\n",
       "PeriodicSite: O2- (3.9589, 1.9795, 1.9795) [0.5000, 0.2500, 0.2500]\n",
       "PeriodicSite: O2- (3.9589, 1.9795, 5.9384) [0.5000, 0.2500, 0.7500]\n",
       "PeriodicSite: O2- (3.9589, 5.9384, 1.9795) [0.5000, 0.7500, 0.2500]\n",
       "PeriodicSite: O2- (3.9589, 5.9384, 5.9384) [0.5000, 0.7500, 0.7500]\n",
       "PeriodicSite: O2- (1.9795, 0.0000, 1.9795) [0.2500, 0.0000, 0.2500]\n",
       "PeriodicSite: O2- (1.9795, 0.0000, 5.9384) [0.2500, 0.0000, 0.7500]\n",
       "PeriodicSite: O2- (1.9795, 3.9589, 1.9795) [0.2500, 0.5000, 0.2500]\n",
       "PeriodicSite: O2- (1.9795, 3.9589, 5.9384) [0.2500, 0.5000, 0.7500]\n",
       "PeriodicSite: O2- (5.9384, 0.0000, 1.9795) [0.7500, 0.0000, 0.2500]\n",
       "PeriodicSite: O2- (5.9384, 0.0000, 5.9384) [0.7500, 0.0000, 0.7500]\n",
       "PeriodicSite: O2- (5.9384, 3.9589, 1.9795) [0.7500, 0.5000, 0.2500]\n",
       "PeriodicSite: O2- (5.9384, 3.9589, 5.9384) [0.7500, 0.5000, 0.7500]\n",
       "PeriodicSite: O2- (1.9795, 1.9795, 0.0000) [0.2500, 0.2500, 0.0000]\n",
       "PeriodicSite: O2- (1.9795, 1.9795, 3.9589) [0.2500, 0.2500, 0.5000]\n",
       "PeriodicSite: O2- (1.9795, 5.9384, 0.0000) [0.2500, 0.7500, 0.0000]\n",
       "PeriodicSite: O2- (1.9795, 5.9384, 3.9589) [0.2500, 0.7500, 0.5000]\n",
       "PeriodicSite: O2- (5.9384, 1.9795, 0.0000) [0.7500, 0.2500, 0.0000]\n",
       "PeriodicSite: O2- (5.9384, 1.9795, 3.9589) [0.7500, 0.2500, 0.5000]\n",
       "PeriodicSite: O2- (5.9384, 5.9384, 0.0000) [0.7500, 0.7500, 0.0000]\n",
       "PeriodicSite: O2- (5.9384, 5.9384, 3.9589) [0.7500, 0.7500, 0.5000]"
      ]
     },
     "execution_count": 1345,
     "metadata": {},
     "output_type": "execute_result"
    }
   ],
   "source": [
    "BO3_structures_oxi_disordered_supercell[4]"
   ]
  },
  {
   "cell_type": "markdown",
   "metadata": {},
   "source": [
    "Now our structures are decorated with the oxidation states and converted to supercell, the next step is to perform Enumeration transformation to get site specific substitution randomness "
   ]
  },
  {
   "cell_type": "code",
   "execution_count": 1322,
   "metadata": {},
   "outputs": [],
   "source": [
    "BO3_structures_oxi_disordered_supercell_copy = copy.deepcopy(BO3_structures_oxi_disordered_supercell)"
   ]
  },
  {
   "cell_type": "markdown",
   "metadata": {},
   "source": [
    "For now we have to run every instance "
   ]
  },
  {
   "cell_type": "code",
   "execution_count": 1367,
   "metadata": {},
   "outputs": [],
   "source": [
    "BO3_ordered_structure = EnumerateStructureTransformation().apply_transformation(BO3_structures_oxi_disordered_supercell_copy[8], return_ranked_list = 10)\n"
   ]
  },
  {
   "cell_type": "code",
   "execution_count": 1369,
   "metadata": {},
   "outputs": [],
   "source": [
    "for i in range(10):\n",
    "    BO3_ordered_structure[i]['structure'].to(\"cif\", \"assets/TiO3/{}_{}.cif\".format(BO3_structures_oxi_disordered_supercell_copy[8].formula, i))\n",
    "    \n",
    "    "
   ]
  },
  {
   "cell_type": "markdown",
   "metadata": {},
   "source": [
    "Now use ase to get xyz files too from the cif files"
   ]
  },
  {
   "cell_type": "code",
   "execution_count": 1373,
   "metadata": {},
   "outputs": [],
   "source": [
    "#os.chdir(\"assets/TiO3\")\n",
    "os.chdir(\"../..\")"
   ]
  },
  {
   "cell_type": "code",
   "execution_count": 1371,
   "metadata": {},
   "outputs": [
    {
     "data": {
      "text/plain": [
       "'/Users/afridshirsekar/Desktop/icet/structure-library-builder/assets/TiO3'"
      ]
     },
     "execution_count": 1371,
     "metadata": {},
     "output_type": "execute_result"
    }
   ],
   "source": [
    "os.getcwd()"
   ]
  },
  {
   "cell_type": "code",
   "execution_count": 1372,
   "metadata": {},
   "outputs": [],
   "source": [
    "for i in range(10):\n",
    "    read_file = read(filename = ('K2_Na2_Y4_Ti8_O24_{}.cif'.format(i)))\n",
    "    write(('K2_Na2_Y4_Ti8_O24_{}.xyz'.format(i)), read_file)"
   ]
  },
  {
   "cell_type": "code",
   "execution_count": null,
   "metadata": {},
   "outputs": [],
   "source": []
  }
 ],
 "metadata": {
  "kernelspec": {
   "display_name": "Python 3.8.2 64-bit",
   "name": "python_defaultSpec_1612369311294"
  },
  "language_info": {
   "codemirror_mode": {
    "name": "ipython",
    "version": 3
   },
   "file_extension": ".py",
   "mimetype": "text/x-python",
   "name": "python",
   "nbconvert_exporter": "python",
   "pygments_lexer": "ipython3",
   "version": "3.8.2-final"
  },
  "orig_nbformat": 2
 },
 "nbformat": 4,
 "nbformat_minor": 2
}
